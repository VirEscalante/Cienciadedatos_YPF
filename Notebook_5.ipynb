{
  "nbformat": 4,
  "nbformat_minor": 0,
  "metadata": {
    "kernelspec": {
      "display_name": "Python 3",
      "language": "python",
      "name": "python3"
    },
    "language_info": {
      "codemirror_mode": {
        "name": "ipython",
        "version": 3
      },
      "file_extension": ".py",
      "mimetype": "text/x-python",
      "name": "python",
      "nbconvert_exporter": "python",
      "pygments_lexer": "ipython3",
      "version": "3.7.3"
    },
    "colab": {
      "provenance": []
    }
  },
  "cells": [
    {
      "cell_type": "markdown",
      "metadata": {
        "id": "Gp2WddtV9IwG"
      },
      "source": [
        "# Programa Ingenias+ Data Science"
      ]
    },
    {
      "cell_type": "markdown",
      "metadata": {
        "id": "H4M1yVbf9IwH"
      },
      "source": [
        "Como dijimos en clases anteriores, Python tiene implementadas muchas librerias para poder trabajar con datos. En la clase de hoy trabajaremos con una de ellas: `Numpy`."
      ]
    },
    {
      "cell_type": "markdown",
      "metadata": {
        "id": "GdTT8WeL9IwI"
      },
      "source": [
        "Antes de comenzar, vamos a hablar un poco de esta libreria o modulo.\n",
        "\n",
        "**Numpy** es una librería optimizada para realizar cálculos numéricos con vectores y matrices. A diferencia de otros lenguajes de programación, Python no posee en su estructura central la figura de matrices. Eso quiere decir que para poder trabajar con esta estructura de datos deberiamos trabajar con listas de listas. NumPy introduce el concepto de arrays o matrices."
      ]
    },
    {
      "cell_type": "markdown",
      "metadata": {
        "id": "qWkq3EHK9IwK"
      },
      "source": [
        "Al ser de código abierto, `numpy` posee una documentación muy amplia que es **SIEMPRE RECOMENDABLE** consultar."
      ]
    },
    {
      "cell_type": "markdown",
      "metadata": {
        "id": "nxe3KLUO9IwL"
      },
      "source": [
        "- [Documentacion NumPy](https://devdocs.io/numpy/)"
      ]
    },
    {
      "cell_type": "markdown",
      "metadata": {
        "id": "l1Ay3nSs9IwN"
      },
      "source": [
        "## Clase 4: Introduccion a NumPy"
      ]
    },
    {
      "cell_type": "markdown",
      "metadata": {
        "id": "X03mviQS9IyL"
      },
      "source": [
        "# Ejercicios\n",
        "\n",
        "1. Crear un arreglo de ceros de longitud 12\n",
        "2. Crear un arreglo de longitud 10 con ceros en todas sus posiciones y un 10 en la posición número 5\n",
        "3. Crear un arreglo que tenga los números del 10 al 49\n",
        "4. Crear una arreglo 2d de shape (3, 3) que tenga los números del 0 al 8\n",
        "5. Crear un arreglo de números aleatorios de longitud 100 y obtener su media y varianza\n",
        "6. Calcular la media de un arreglo usando np.sum\n",
        "7. Calcular la varianza de un arreglo usando np.sum y np.mean\n",
        "8. Crear un array de números aleatorios usando np.random.randn.\n"
      ]
    },
    {
      "cell_type": "code",
      "source": [
        "import numpy as np"
      ],
      "metadata": {
        "id": "8_euAE0MKG0H"
      },
      "execution_count": 3,
      "outputs": []
    },
    {
      "cell_type": "code",
      "source": [
        "#Crear un arreglo de ceros de longitud 12\n",
        "print(np.zeros(12))"
      ],
      "metadata": {
        "colab": {
          "base_uri": "https://localhost:8080/"
        },
        "id": "psQ02hpxKOq_",
        "outputId": "589845c1-fb69-48d4-dce5-150150ee69de"
      },
      "execution_count": 4,
      "outputs": [
        {
          "output_type": "stream",
          "name": "stdout",
          "text": [
            "[0. 0. 0. 0. 0. 0. 0. 0. 0. 0. 0. 0.]\n"
          ]
        }
      ]
    },
    {
      "cell_type": "code",
      "source": [
        "#Crear un arreglo de longitud 10 con ceros en todas sus posiciones y un 10 en la posición número 5\n",
        "arreglo_Ceros = np.zeros(10)\n",
        "arreglo_Ceros[5] = 10\n",
        "print(arreglo_Ceros)"
      ],
      "metadata": {
        "colab": {
          "base_uri": "https://localhost:8080/"
        },
        "id": "bEiONxX3KV_P",
        "outputId": "6ebbf2ff-b229-493d-d1f6-d9d6d98af799"
      },
      "execution_count": 5,
      "outputs": [
        {
          "output_type": "stream",
          "name": "stdout",
          "text": [
            "[ 0.  0.  0.  0.  0. 10.  0.  0.  0.  0.]\n"
          ]
        }
      ]
    },
    {
      "cell_type": "code",
      "source": [
        "#Crear un arreglo que tenga los números del 10 al 49\n",
        "arreglo = np.arange(10,50)\n",
        "arreglo"
      ],
      "metadata": {
        "colab": {
          "base_uri": "https://localhost:8080/"
        },
        "id": "Nj3M9mDhNN32",
        "outputId": "3f279414-1484-4601-b5db-c8d6c7f1b4c3"
      },
      "execution_count": 14,
      "outputs": [
        {
          "output_type": "execute_result",
          "data": {
            "text/plain": [
              "array([10, 11, 12, 13, 14, 15, 16, 17, 18, 19, 20, 21, 22, 23, 24, 25, 26,\n",
              "       27, 28, 29, 30, 31, 32, 33, 34, 35, 36, 37, 38, 39, 40, 41, 42, 43,\n",
              "       44, 45, 46, 47, 48, 49])"
            ]
          },
          "metadata": {},
          "execution_count": 14
        }
      ]
    },
    {
      "cell_type": "code",
      "source": [
        "#Crear una arreglo 2d de shape (3, 3) que tenga los números del 0 al 8\n",
        "lista = [[0, 1, 2, 4], [5, 6, 7, 8]]\n",
        "Arreglo2d = np.array(lista)\n",
        "Arreglo2d"
      ],
      "metadata": {
        "colab": {
          "base_uri": "https://localhost:8080/"
        },
        "id": "VZLosdaeObCH",
        "outputId": "deee699c-e851-459a-adc8-a6e8e0080784"
      },
      "execution_count": 20,
      "outputs": [
        {
          "output_type": "execute_result",
          "data": {
            "text/plain": [
              "array([[0, 1, 2, 4],\n",
              "       [5, 6, 7, 8]])"
            ]
          },
          "metadata": {},
          "execution_count": 20
        }
      ]
    },
    {
      "cell_type": "code",
      "source": [
        "#Crear un arreglo de números aleatorios de longitud 100 y obtener su media y varianza\n",
        "Nuevo_array = (np.random.randn(100))\n",
        "Nuevo_array"
      ],
      "metadata": {
        "colab": {
          "base_uri": "https://localhost:8080/"
        },
        "id": "JA9zI5i8PGod",
        "outputId": "39224035-c732-40d2-af42-dfa1e5aa899d"
      },
      "execution_count": 40,
      "outputs": [
        {
          "output_type": "execute_result",
          "data": {
            "text/plain": [
              "array([-1.51704095,  0.79138845,  0.51443143,  1.13396267, -0.66778672,\n",
              "       -0.03673141, -1.01828086,  1.4408904 , -0.1974549 , -0.62325479,\n",
              "       -0.72321793, -0.39513448,  0.03592827, -0.51562645, -1.08678852,\n",
              "       -0.04283032,  0.56108318, -1.26152934,  0.73247549, -1.2589378 ,\n",
              "       -0.82939324, -1.10997047, -1.51079933, -0.47583403, -0.22059166,\n",
              "        0.21721647,  0.17545815,  0.36794912,  0.38808987, -0.11045907,\n",
              "       -0.42295578,  0.4082436 , -0.33511879,  0.54900399,  0.43998567,\n",
              "        0.30153446, -0.82926226,  0.79000541, -0.51496772, -0.38165803,\n",
              "       -1.05279223, -1.56575447, -0.90201997,  1.70270789,  1.65230614,\n",
              "       -1.44040298, -0.90280002,  2.57935195, -1.09438815, -0.29430609,\n",
              "        0.5668412 , -0.46195352,  2.41495115,  1.11366571,  0.18719709,\n",
              "        0.30576247, -0.81913597, -0.30601871,  0.04478224,  0.744603  ,\n",
              "        0.09842954, -2.03811205, -1.46975522,  0.66629632,  0.63688558,\n",
              "        2.15356469,  0.74659085,  1.60375933,  0.46598628, -0.80353712,\n",
              "        0.36291788, -0.61843225,  0.60853197,  0.08956013,  0.32117395,\n",
              "        1.08413773, -0.88621132, -1.46819636, -1.49807761,  1.00354168,\n",
              "       -0.47539695, -0.81316015, -0.19301912,  0.48547691, -1.49168587,\n",
              "       -3.08464193,  1.22261117,  0.0700645 ,  0.0585604 , -0.21347559,\n",
              "        1.68324935, -1.41537554, -1.842772  , -0.14736551, -2.20913609,\n",
              "        1.28688853,  1.66404584,  2.20483789, -0.46473356,  2.44497037])"
            ]
          },
          "metadata": {},
          "execution_count": 40
        }
      ]
    },
    {
      "cell_type": "code",
      "source": [
        "#MEDIA\n",
        "np.mean(Nuevo_array)"
      ],
      "metadata": {
        "colab": {
          "base_uri": "https://localhost:8080/"
        },
        "id": "7hZzX_oBPj7d",
        "outputId": "1052a9cc-6ae8-4b52-bb2b-29800341d3c7"
      },
      "execution_count": 41,
      "outputs": [
        {
          "output_type": "execute_result",
          "data": {
            "text/plain": [
              "-0.0493638486223874"
            ]
          },
          "metadata": {},
          "execution_count": 41
        }
      ]
    },
    {
      "cell_type": "code",
      "source": [
        "#VARIANZA\n",
        "np.var(Nuevo_array)"
      ],
      "metadata": {
        "colab": {
          "base_uri": "https://localhost:8080/"
        },
        "id": "d2zU7XoOQn0p",
        "outputId": "e4111c92-01fe-4e74-eecb-2c1d999651f2"
      },
      "execution_count": 42,
      "outputs": [
        {
          "output_type": "execute_result",
          "data": {
            "text/plain": [
              "1.191165559971545"
            ]
          },
          "metadata": {},
          "execution_count": 42
        }
      ]
    },
    {
      "cell_type": "code",
      "source": [
        "#Calcular la media de un arreglo usando np.sum\n",
        "np.sum(Nuevo_array)/100\n"
      ],
      "metadata": {
        "colab": {
          "base_uri": "https://localhost:8080/"
        },
        "id": "lgwbeXX4Qx5N",
        "outputId": "71794295-21af-47f0-87ef-457130d4e92a"
      },
      "execution_count": 43,
      "outputs": [
        {
          "output_type": "execute_result",
          "data": {
            "text/plain": [
              "-0.0493638486223874"
            ]
          },
          "metadata": {},
          "execution_count": 43
        }
      ]
    },
    {
      "cell_type": "code",
      "source": [
        "#Calcular la varianza de un arreglo usando np.sum y np.mean\n",
        "arreglo = np.array([1, 2, 3, 4, 5])\n",
        "\n",
        "media = np.mean(arreglo)\n",
        "varianza = np.sum((arreglo - media)**2) / len(arreglo)\n",
        "\n",
        "print(varianza)\n"
      ],
      "metadata": {
        "colab": {
          "base_uri": "https://localhost:8080/"
        },
        "id": "4tU_IKnlR4E9",
        "outputId": "26a5c8d4-7e74-4284-a72e-ee2bd9502ea0"
      },
      "execution_count": 10,
      "outputs": [
        {
          "output_type": "stream",
          "name": "stdout",
          "text": [
            "2.0\n"
          ]
        }
      ]
    },
    {
      "cell_type": "code",
      "source": [
        "#Crear un array de números aleatorios usando np.random.randn\n",
        "Array= (np.random.randn(10))\n",
        "Array"
      ],
      "metadata": {
        "colab": {
          "base_uri": "https://localhost:8080/"
        },
        "id": "iKBztCBIS1Ps",
        "outputId": "4e683047-d762-4553-e9b7-0099c98c64be"
      },
      "execution_count": 49,
      "outputs": [
        {
          "output_type": "execute_result",
          "data": {
            "text/plain": [
              "array([ 1.14187684,  0.00444007, -0.81174339,  1.43639151,  0.316907  ,\n",
              "        0.59664761, -0.08900267,  0.80889003, -1.35202867, -0.47229065])"
            ]
          },
          "metadata": {},
          "execution_count": 49
        }
      ]
    }
  ]
}